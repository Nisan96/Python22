{
 "cells": [
  {
   "cell_type": "code",
   "execution_count": null,
   "metadata": {},
   "outputs": [],
   "source": [
    "fruits = ['apple','orange','grape','mango','banana']\n",
    "f = input(\"Enter a fruit name for this guessing game:\")\n",
    "g = input(\"[apple,orange,grape,mango,banana] _ Now guess the fruit from the list:\")\n",
    "#c = 1\n",
    "for i in range(3):\n",
    "    if fruits.index(f) == fruits.index(g):\n",
    "        print(\"Congrats...you guess the right fruit\")\n",
    "    elif fruits.index(f) > fruits.index(g):\n",
    "        print(\"you guessed fruit with lower index\")\n",
    "        fi = fruits.index(f) - fruits.index(g)\n",
    "        if fi == 1:\n",
    "            print(\"So close guess\")\n",
    "            g = input(\"you guessed fruit with lower index but So close guess...guess again:\")\n",
    "        elif fi >= 3:\n",
    "            print(\"Not a close guess\")\n",
    "            g = input(\"you guessed fruit with lower index and Not a close guess...guess again:\")\n",
    "        else:\n",
    "            print(\"moderate guess\")\n",
    "            g = input(\"you guessed fruit with lower index but moderate guess...guess again:\")\n",
    "    else:\n",
    "        print(\"you guessed fruit with higher index\")\n",
    "        fi = fruits.index(g) - fruits.index(f)\n",
    "        if fi == 1:\n",
    "            print(\"So close guess\")\n",
    "            g = input(\"you guessed fruit with higher index but So close guess...guess again:\")\n",
    "        elif fi >= 3:\n",
    "            print(\"Not a close guess\")\n",
    "            g = input(\"you guessed fruit with higher index and Not a close guess...guess again:\")\n",
    "        else:\n",
    "            print(\"moderate guess\")\n",
    "            g = input(\"you guessed fruit with higher index but moderate guess...guess again:\")\n",
    "\n",
    "if fruits.index(f) == fruits.index(g):\n",
    "        print(\"Congrats...you guess the right fruit\")\n",
    "else:\n",
    "    print(\"Sorry..You failed to guess the fruit\")  "
   ]
  }
 ],
 "metadata": {
  "kernelspec": {
   "display_name": "Python 3.10.5 64-bit",
   "language": "python",
   "name": "python3"
  },
  "language_info": {
   "codemirror_mode": {
    "name": "ipython",
    "version": 3
   },
   "file_extension": ".py",
   "mimetype": "text/x-python",
   "name": "python",
   "nbconvert_exporter": "python",
   "pygments_lexer": "ipython3",
   "version": "3.10.5"
  },
  "orig_nbformat": 4,
  "vscode": {
   "interpreter": {
    "hash": "369f2c481f4da34e4445cda3fffd2e751bd1c4d706f27375911949ba6bb62e1c"
   }
  }
 },
 "nbformat": 4,
 "nbformat_minor": 2
}
