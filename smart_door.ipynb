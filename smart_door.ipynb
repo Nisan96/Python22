{
 "cells": [
  {
   "cell_type": "code",
   "execution_count": null,
   "metadata": {},
   "outputs": [],
   "source": [
    "sd ={}\n",
    "print(sd)"
   ]
  },
  {
   "cell_type": "code",
   "execution_count": 3,
   "metadata": {},
   "outputs": [
    {
     "data": {
      "text/plain": [
       "{'Original_password': 'open@abc', 'Security_answer': 'black'}"
      ]
     },
     "execution_count": 3,
     "metadata": {},
     "output_type": "execute_result"
    }
   ],
   "source": [
    "smart_door = {'Original_password':'open@abc', 'Security_answer' : 'black'}\n",
    "smart_door"
   ]
  },
  {
   "cell_type": "code",
   "execution_count": 4,
   "metadata": {},
   "outputs": [
    {
     "name": "stdout",
     "output_type": "stream",
     "text": [
      "Wrong Password! Please try again\n",
      "Wrong Password! Please try again\n",
      "Wrong Password! Please try again\n",
      "Forgot your password!\n",
      "Answer this simple Question to reset password\n",
      "Hooray!...Answer successfully matches with your record\n",
      "Password length should be 8\n",
      "congrats!..You successfully updated your password\n",
      "Door is Open\n"
     ]
    }
   ],
   "source": [
    "#while True:\n",
    "a = input(\"Enter password to open:\")\n",
    "count = 0\n",
    "\n",
    "if smart_door['Original_password'] == a:\n",
    "    print(\"Door is Open\")\n",
    "else:\n",
    "    print(\"Wrong Password! Please try again\")\n",
    "    count += 1\n",
    "    for i in range(0,2):\n",
    "        a = input(\"Wrong Password!...Enter password to open again:\")\n",
    "        if smart_door['Original_password'] == a:\n",
    "            print(\"Door is Open!\")\n",
    "            break\n",
    "        else:\n",
    "            print(\"Wrong Password! Please try again\")\n",
    "            count += 1\n",
    "            if count == 3:\n",
    "                print(\"Forgot your password!\")\n",
    "                print(\"Answer this simple Question to reset password\")\n",
    "                b = input(\"(Forgot your password!...Answer this simple Question to reset password)...What's your favourite colour:\")\n",
    "                if smart_door['Security_answer'] == b:\n",
    "                    print(\"Hooray!...Answer successfully matches with your record\")\n",
    "                    c = input(\"(Hooray!...Answer successfully matches with your record)...Now update password:\")\n",
    "                    while len(c)<8 or type(c)==int:\n",
    "                        if len(c)<8:\n",
    "                            print(\"Password length should be 8\")\n",
    "                            c = input(\"(Password length should be 8)...Now update password again:\")\n",
    "                        else:\n",
    "                            print(\"Password should be string or mix type\")\n",
    "                            c = input(\"(Password should be string or mix type)...Now update password again:\")\n",
    "                    else:\n",
    "                        print(\"congrats!..You successfully updated your password\")\n",
    "                        smart_door['Original_password'] = c\n",
    "                        d = input(\"congrats!..You successfully updated your password...Now try to login with your new password:\")\n",
    "                        if smart_door['Original_password'] == d:\n",
    "                            print(\"Door is Open\")\n",
    "                        else:\n",
    "                            print(\"Sorry!, The Door is parmanently closed for you\")\n",
    "                             \n",
    "                        #print(\"Now try to login with your new password\") \n",
    "                else:\n",
    "                    print(\"Sorry!,The door is permanently locked for you\")               \n"
   ]
  },
  {
   "cell_type": "markdown",
   "metadata": {},
   "source": []
  }
 ],
 "metadata": {
  "kernelspec": {
   "display_name": "Python 3.10.5 64-bit",
   "language": "python",
   "name": "python3"
  },
  "language_info": {
   "codemirror_mode": {
    "name": "ipython",
    "version": 3
   },
   "file_extension": ".py",
   "mimetype": "text/x-python",
   "name": "python",
   "nbconvert_exporter": "python",
   "pygments_lexer": "ipython3",
   "version": "3.10.5"
  },
  "orig_nbformat": 4,
  "vscode": {
   "interpreter": {
    "hash": "369f2c481f4da34e4445cda3fffd2e751bd1c4d706f27375911949ba6bb62e1c"
   }
  }
 },
 "nbformat": 4,
 "nbformat_minor": 2
}
