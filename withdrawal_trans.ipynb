{
 "cells": [
  {
   "cell_type": "code",
   "execution_count": 2,
   "metadata": {},
   "outputs": [
    {
     "name": "stdout",
     "output_type": "stream",
     "text": [
      "Withdrawal transaction is successful!...\n",
      "bank charges 0.50$ for every transaction\n",
      "pooja. your new account balance after withdrawal transaction is: 62999.5 $\n"
     ]
    }
   ],
   "source": [
    "acc_balance = int(input(\"Enter amount of account balance:\"))\n",
    "bank_charge = 0.50\n",
    "i = input(\"Hi, pooja would you like to withdraw:\")\n",
    "y = [\"YES\",\"Yes\",\"yes\"]\n",
    "if i in y:\n",
    "    x = int(input(\"How much dollar you want to withdraw:\"))\n",
    "    a = acc_balance - x\n",
    "    if a >= 1000:\n",
    "        if x % 5 == 0:\n",
    "            acc_balance = a - bank_charge\n",
    "            print(\"Withdrawal transaction is successful!...\")\n",
    "            print(\"bank charges 0.50$ for every transaction\")\n",
    "            print(\"pooja. your new account balance after withdrawal transaction is:\", acc_balance,'$')\n",
    "        else:\n",
    "            print(\"Invalid amount for withdrawal transaction\") \n",
    "    else:\n",
    "        print(\"withdraw amount does exceed your balance limit\")\n",
    "else:\n",
    "    print(\"No withdrawal transaction happened!\")            "
   ]
  }
 ],
 "metadata": {
  "kernelspec": {
   "display_name": "Python 3.10.5 64-bit",
   "language": "python",
   "name": "python3"
  },
  "language_info": {
   "codemirror_mode": {
    "name": "ipython",
    "version": 3
   },
   "file_extension": ".py",
   "mimetype": "text/x-python",
   "name": "python",
   "nbconvert_exporter": "python",
   "pygments_lexer": "ipython3",
   "version": "3.10.5"
  },
  "orig_nbformat": 4,
  "vscode": {
   "interpreter": {
    "hash": "369f2c481f4da34e4445cda3fffd2e751bd1c4d706f27375911949ba6bb62e1c"
   }
  }
 },
 "nbformat": 4,
 "nbformat_minor": 2
}
