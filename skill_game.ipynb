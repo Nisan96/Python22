{
 "cells": [
  {
   "cell_type": "code",
   "execution_count": null,
   "metadata": {},
   "outputs": [],
   "source": [
    "D = 1.5\n",
    "x = float(input(\"The 1st team's skill point out of 5 is:\"))\n",
    "y = float(input(\"The 2nd team's skill point out of 5 is:\"))\n",
    "\n",
    "if x < 0 or x > 5:\n",
    "    print(\"Invalid skill point\")\n",
    "    exit\n",
    "elif y < 0 or y > 5:\n",
    "    print(\"Invalid skill point\")\n",
    "    exit\n",
    "else:\n",
    "    if x >= y:\n",
    "        s = x - y\n",
    "        if s <= D:\n",
    "            print(\"Hey Chef..This final will be interesting\")\n",
    "        else:\n",
    "            print(\"Not so interesting final match\")\n",
    "    else:\n",
    "        s = y - x\n",
    "        if s <= D:\n",
    "            print(\"Hey Chef..This final will be interesting\")\n",
    "        else:\n",
    "            print(\"Not so interesting final match\")\n"
   ]
  },
  {
   "cell_type": "markdown",
   "metadata": {},
   "source": [
    "# skill_game using euclidean distance formula"
   ]
  },
  {
   "cell_type": "code",
   "execution_count": null,
   "metadata": {},
   "outputs": [],
   "source": [
    "import sys\n",
    "import math \n",
    "D = 3.3\n",
    "x ={}\n",
    "y ={}\n",
    "# skill pont for 1st team X\n",
    "a = float(input(\"enter skill point of 1st team for passing out of 5:\"))\n",
    "if a < 0 or a > 5:\n",
    "    print(\"Invalid skill point\")\n",
    "    sys.exit()\n",
    "else:\n",
    "    x['passing'] = a\n",
    "\n",
    "a = float(input(\"enter skill point of 1st team for dribbling out of 5:\"))\n",
    "if a < 0 or a > 5:\n",
    "    print(\"Invalid skill point\")\n",
    "    sys.exit()\n",
    "else:\n",
    "    x['dribbling'] = a\n",
    "\n",
    "a = float(input(\"enter skill point of 1st team for discipline out of 5:\"))\n",
    "if a < 0 or a > 5:\n",
    "    print(\"Invalid skill point\")\n",
    "    sys.exit()\n",
    "else:\n",
    "    x['discipline'] = a\n",
    "\n",
    "# skill point for 2nd team Y\n",
    "b = float(input(\"enter skill point of 2nd team for passing out of 5:\"))\n",
    "if b < 0 or b > 5:\n",
    "    print(\"Invalid skill point\")\n",
    "    sys.exit()\n",
    "else:\n",
    "    y['passing'] = b\n",
    "\n",
    "b = float(input(\"enter skill point of 2nd team for dribbling out of 5:\"))\n",
    "if b < 0 or b > 5:\n",
    "    print(\"Invalid skill point\")\n",
    "    sys.exit()\n",
    "else:\n",
    "    y['dribbling'] = b\n",
    "\n",
    "b = float(input(\"enter skill point of 2nd team for discipline out of 5:\"))\n",
    "if b < 0 or b > 5:\n",
    "    print(\"Invalid skill point\")\n",
    "    sys.exit()\n",
    "else:\n",
    "    y['discipline'] = b\n",
    "\n",
    "l1 =list(x.values())\n",
    "l2 =list(y.values())\n",
    "\n",
    "distance = math.sqrt((l1[0]-l2[0])**2 + (l1[1]-l2[1])**2 + (l1[2]-l2[2])**2)\n",
    "print(distance)\n",
    "if distance <= D:\n",
    "    print(\"Chef..This final match will be interesting\")\n",
    "else:\n",
    "    print(\"Not a Interesting match\")   "
   ]
  }
 ],
 "metadata": {
  "kernelspec": {
   "display_name": "Python 3.10.5 64-bit",
   "language": "python",
   "name": "python3"
  },
  "language_info": {
   "codemirror_mode": {
    "name": "ipython",
    "version": 3
   },
   "file_extension": ".py",
   "mimetype": "text/x-python",
   "name": "python",
   "nbconvert_exporter": "python",
   "pygments_lexer": "ipython3",
   "version": "3.10.5"
  },
  "orig_nbformat": 4,
  "vscode": {
   "interpreter": {
    "hash": "369f2c481f4da34e4445cda3fffd2e751bd1c4d706f27375911949ba6bb62e1c"
   }
  }
 },
 "nbformat": 4,
 "nbformat_minor": 2
}
