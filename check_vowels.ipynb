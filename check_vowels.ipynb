{
 "cells": [
  {
   "cell_type": "code",
   "execution_count": 2,
   "metadata": {},
   "outputs": [
    {
     "name": "stdout",
     "output_type": "stream",
     "text": [
      "The total count of word is: 9\n",
      "The vowel alphabet in this word is: {'a', 'i', 'e'}\n",
      "The total count of vowel in this word is: 4\n"
     ]
    }
   ],
   "source": [
    "a = input(\"Type a word as you want:\")\n",
    "b = set()\n",
    "v = ['A','E','I','O','U','a','e','i','o','u']\n",
    "count = 0\n",
    "for i in a:\n",
    "    if i in v:\n",
    "        b.add(i)\n",
    "        count += 1\n",
    "print(\"The total count of word is:\", len(a))\n",
    "print(\"The vowel alphabet in this word is:\", b)\n",
    "print(\"The total count of vowel in this word is:\", count)       "
   ]
  }
 ],
 "metadata": {
  "kernelspec": {
   "display_name": "Python 3.10.5 64-bit",
   "language": "python",
   "name": "python3"
  },
  "language_info": {
   "codemirror_mode": {
    "name": "ipython",
    "version": 3
   },
   "file_extension": ".py",
   "mimetype": "text/x-python",
   "name": "python",
   "nbconvert_exporter": "python",
   "pygments_lexer": "ipython3",
   "version": "3.10.5"
  },
  "orig_nbformat": 4,
  "vscode": {
   "interpreter": {
    "hash": "369f2c481f4da34e4445cda3fffd2e751bd1c4d706f27375911949ba6bb62e1c"
   }
  }
 },
 "nbformat": 4,
 "nbformat_minor": 2
}
