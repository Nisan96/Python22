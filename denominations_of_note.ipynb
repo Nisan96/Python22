{
 "cells": [
  {
   "cell_type": "code",
   "execution_count": null,
   "metadata": {},
   "outputs": [],
   "source": [
    "'''t = int(input(\"Enter a amount:\"))\n",
    "if t == 2000:\n",
    "    print(\"There is 1 note of 2000\")\n",
    "if t > 2000:\n",
    "    i = 1\n",
    "    while True:\n",
    "        if i*2000 <= t:\n",
    "            i += 1 \n",
    "            continue   \n",
    "        else:\n",
    "            i = i-1\n",
    "            break\n",
    "    a = t - (i * 2000)\n",
    "    if a == 0:\n",
    "        print(\"There is\", i, \"note of 2000\")\n",
    "    if a > 0:\n",
    "        if a == 1 '''    "
   ]
  },
  {
   "cell_type": "code",
   "execution_count": 3,
   "metadata": {},
   "outputs": [
    {
     "name": "stdout",
     "output_type": "stream",
     "text": [
      "There is 33 notes of 2000\n",
      "There is 3 notes of 500\n",
      "There is 3 notes of 100\n",
      "There is 1 notes of 50\n",
      "There is 2 notes of 20\n"
     ]
    }
   ],
   "source": [
    "t = int(input(\"Enter a amount:\"))\n",
    "l = [2000,500,100,50,20,10,5,2,1]\n",
    "for i in l:\n",
    "    if t >= i:\n",
    "        if t == i:\n",
    "            print(\"There is 1 note of\", i)\n",
    "            break\n",
    "        else:\n",
    "            if t > 2000:\n",
    "                c = t // 2000\n",
    "                print(\"There is\",c,\"notes of 2000\")\n",
    "                m = t % 2000\n",
    "                if m == 0:\n",
    "                    break\n",
    "                else:\n",
    "                    t = m\n",
    "                    continue\n",
    "            else:\n",
    "                c = t // i\n",
    "                print(\"There is\",c,\"notes of\",i)\n",
    "                m = t % i\n",
    "                if m == 0:\n",
    "                    break\n",
    "                else:\n",
    "                    t = m \n",
    "                    continue\n",
    "    else:\n",
    "        continue             \n",
    "\n"
   ]
  },
  {
   "cell_type": "code",
   "execution_count": null,
   "metadata": {},
   "outputs": [],
   "source": [
    "'''l = [2000,500,100,50,20,10,5,2,1]\n",
    "for i in l:\n",
    "    print(i)'''"
   ]
  }
 ],
 "metadata": {
  "kernelspec": {
   "display_name": "Python 3.10.5 64-bit",
   "language": "python",
   "name": "python3"
  },
  "language_info": {
   "codemirror_mode": {
    "name": "ipython",
    "version": 3
   },
   "file_extension": ".py",
   "mimetype": "text/x-python",
   "name": "python",
   "nbconvert_exporter": "python",
   "pygments_lexer": "ipython3",
   "version": "3.10.5"
  },
  "orig_nbformat": 4,
  "vscode": {
   "interpreter": {
    "hash": "369f2c481f4da34e4445cda3fffd2e751bd1c4d706f27375911949ba6bb62e1c"
   }
  }
 },
 "nbformat": 4,
 "nbformat_minor": 2
}
